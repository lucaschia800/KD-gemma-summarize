{
 "cells": [
  {
   "cell_type": "code",
   "execution_count": 1,
   "id": "21f98de0",
   "metadata": {},
   "outputs": [
    {
     "name": "stderr",
     "output_type": "stream",
     "text": [
      "c:\\Users\\lucas\\.pyenv\\pyenv-win\\versions\\3.11.0\\Lib\\site-packages\\tqdm\\auto.py:21: TqdmWarning: IProgress not found. Please update jupyter and ipywidgets. See https://ipywidgets.readthedocs.io/en/stable/user_install.html\n",
      "  from .autonotebook import tqdm as notebook_tqdm\n"
     ]
    }
   ],
   "source": [
    "import transformers, torch\n",
    "from datasets import load_dataset\n",
    "import os\n",
    "from transformers import AutoConfig, AutoModelForCausalLM, AutoTokenizer\n",
    "from huggingface_hub import login\n"
   ]
  },
  {
   "cell_type": "code",
   "execution_count": 2,
   "id": "6d796aac",
   "metadata": {},
   "outputs": [
    {
     "name": "stderr",
     "output_type": "stream",
     "text": [
      "Generating train split: 100%|██████████| 287113/287113 [00:06<00:00, 43568.41 examples/s]\n",
      "Generating validation split: 100%|██████████| 13368/13368 [00:00<00:00, 58153.56 examples/s]\n",
      "Generating test split: 100%|██████████| 11490/11490 [00:00<00:00, 39066.85 examples/s]\n"
     ]
    }
   ],
   "source": [
    "cnn = load_dataset(\"cnn_dailymail\", \"3.0.0\", split=\"test\")"
   ]
  },
  {
   "cell_type": "code",
   "execution_count": null,
   "id": "5a156ec8",
   "metadata": {},
   "outputs": [],
   "source": [
    "def format_example_for_gkd(example):\n",
    "\n",
    "    user_message = {\n",
    "        \"role\": \"user\",\n",
    "        \"content\": f\"Summarize the following article:\\n\\n{example['article']}\"\n",
    "    }\n",
    "\n",
    "    assistant_message = {\n",
    "        \"role\": \"assistant\",\n",
    "        \"content\": example['highlights'] #EOS token needed?\n",
    "    }\n",
    "\n",
    "    return {\"messages\": [user_message, assistant_message]}\n",
    "\n",
    "\n",
    "gkd_formatted_cnn = cnn.map(\n",
    "    format_example_for_gkd,\n",
    "    batched=False, \n",
    "    remove_columns=['article', 'highlights', 'id'],\n",
    "    num_proc=4 # Use multiple cores if available\n",
    ")\n",
    "\n",
    "print(gkd_formatted_cnn)\n",
    "print(gkd_formatted_cnn[0])"
   ]
  }
 ],
 "metadata": {
  "kernelspec": {
   "display_name": "3.11.0",
   "language": "python",
   "name": "python3"
  },
  "language_info": {
   "codemirror_mode": {
    "name": "ipython",
    "version": 3
   },
   "file_extension": ".py",
   "mimetype": "text/x-python",
   "name": "python",
   "nbconvert_exporter": "python",
   "pygments_lexer": "ipython3",
   "version": "3.11.0"
  }
 },
 "nbformat": 4,
 "nbformat_minor": 5
}
